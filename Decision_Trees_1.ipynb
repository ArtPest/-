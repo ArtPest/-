{
  "cells": [
    {
      "cell_type": "code",
      "execution_count": 1,
      "metadata": {
        "id": "y3DiadTG-ru-"
      },
      "outputs": [],
      "source": [
        "import pandas as pd\n",
        "import numpy as np\n",
        "from matplotlib import pyplot as plt\n",
        "import seaborn \n",
        "import plotly.express as px"
      ]
    },
    {
      "cell_type": "markdown",
      "metadata": {
        "id": "-QpBS-Nd-fAO"
      },
      "source": [
        "# Домашняя работа: деревья решений"
      ]
    },
    {
      "cell_type": "markdown",
      "metadata": {
        "id": "1ZVCYFgU-5Tw"
      },
      "source": [
        "В этой домашней работе вам предстоит научиться предсказывать цены товаров из маркетплейса Azamon.\n",
        "\n",
        "Требования к домашней работе:\n",
        "- Во всех графиках должны быть подписи через title, legend, etc.\n",
        "- Во время обучения моделей проверяйте, что у вас не текут данные. Обычно это позитивно влияет на качество модели на тесте, но негативно влияет на оценку 🌚\n",
        "- Если вы сдаете работу в Google Colaboratory, убедитесь, что ваша тетрадка доступна по ссылке.\n",
        "- Использование мемов допускается, но необходимо соблюдать меру. Несодержательная работа, состоящая только из мемов, получает 0 баллов."
      ]
    },
    {
      "cell_type": "markdown",
      "metadata": {
        "id": "JyTAlXb8CbXk"
      },
      "source": [
        "# Загрузка и подготовка данных"
      ]
    },
    {
      "cell_type": "code",
      "execution_count": 2,
      "metadata": {
        "id": "4feOb66qNQ0J",
        "outputId": "21e7e0fb-5b41-42e5-c2da-199c75bdea26",
        "colab": {
          "base_uri": "https://localhost:8080/"
        }
      },
      "outputs": [
        {
          "output_type": "stream",
          "name": "stdout",
          "text": [
            "Mounted at /content/drive\n"
          ]
        }
      ],
      "source": [
        "from google.colab import drive\n",
        "drive.mount('/content/drive')\n",
        "df = pd.read_csv('/content/drive/My Drive/amazon_co-ecommerce_sample.csv').drop(columns=[\n",
        "    'product_name',\n",
        "    'index',\n",
        "    'uniq_id',\n",
        "    'customers_who_bought_this_item_also_bought',\n",
        "    'items_customers_buy_after_viewing_this_item',\n",
        "    'sellers',\n",
        "    'description', # text\n",
        "    'product_information', # text\n",
        "    'product_description', # text\n",
        "    'customer_questions_and_answers', # text\n",
        "    'customer_reviews', # text\n",
        "])"
      ]
    },
    {
      "cell_type": "markdown",
      "metadata": {
        "id": "O59k78A8C_yP"
      },
      "source": [
        "## Очистка данных (1 балл)\n",
        "\n",
        "Посмотрите на признаки. Есть ли в них пропуски? Какое соотношение между NaN'ами и общим количеством данных? Есть ли смысл выкидывать какие-либо данные из этого датасета?"
      ]
    },
    {
      "cell_type": "code",
      "source": [
        "#Число NaN в каждой категории\n",
        "df.isna().sum()"
      ],
      "metadata": {
        "colab": {
          "base_uri": "https://localhost:8080/"
        },
        "id": "OQeh1YALSFfZ",
        "outputId": "906c0e7f-a9da-4c97-cf32-74b723ddbcc3"
      },
      "execution_count": 3,
      "outputs": [
        {
          "output_type": "execute_result",
          "data": {
            "text/plain": [
              "manufacturer                           7\n",
              "price                               1435\n",
              "number_available_in_stock           2500\n",
              "number_of_reviews                     18\n",
              "number_of_answered_questions         765\n",
              "average_review_rating                 18\n",
              "amazon_category_and_sub_category     690\n",
              "dtype: int64"
            ]
          },
          "metadata": {},
          "execution_count": 3
        }
      ]
    },
    {
      "cell_type": "code",
      "source": [
        "#Процент NaN в каждой категории\n",
        "df.isna().sum()/len(df) * 100"
      ],
      "metadata": {
        "colab": {
          "base_uri": "https://localhost:8080/"
        },
        "id": "TEfLEduZSJDn",
        "outputId": "06596a00-2fa5-4db3-d680-86a128a31e67"
      },
      "execution_count": 4,
      "outputs": [
        {
          "output_type": "execute_result",
          "data": {
            "text/plain": [
              "manufacturer                         0.07\n",
              "price                               14.35\n",
              "number_available_in_stock           25.00\n",
              "number_of_reviews                    0.18\n",
              "number_of_answered_questions         7.65\n",
              "average_review_rating                0.18\n",
              "amazon_category_and_sub_category     6.90\n",
              "dtype: float64"
            ]
          },
          "metadata": {},
          "execution_count": 4
        }
      ]
    },
    {
      "cell_type": "markdown",
      "source": [
        "Насколько я вижу, есть серьёзные потери числовых данных в категориях \"цена\" и \"число доступных на рынке\". Заполнять усреднёнными либо медианными данными четверть датафрейма опасно на предмет искажения данных по сравнению с реальностью. Попробуем прочистить датафрейм."
      ],
      "metadata": {
        "id": "DwQ9xb91XJMS"
      }
    },
    {
      "cell_type": "code",
      "source": [
        "df_cut = df.dropna()"
      ],
      "metadata": {
        "id": "oBTmhtWtYSUx"
      },
      "execution_count": 5,
      "outputs": []
    },
    {
      "cell_type": "code",
      "source": [
        "df_cut.count()"
      ],
      "metadata": {
        "colab": {
          "base_uri": "https://localhost:8080/"
        },
        "id": "6ZGTU4QXYUZH",
        "outputId": "52b78e58-0aef-4818-b911-f20addcceb5e"
      },
      "execution_count": 16,
      "outputs": [
        {
          "output_type": "execute_result",
          "data": {
            "text/plain": [
              "manufacturer                        5486\n",
              "price                               5486\n",
              "number_available_in_stock           5486\n",
              "number_of_reviews                   5486\n",
              "number_of_answered_questions        5486\n",
              "average_review_rating               5486\n",
              "amazon_category_and_sub_category    5486\n",
              "dtype: int64"
            ]
          },
          "metadata": {},
          "execution_count": 16
        }
      ]
    },
    {
      "cell_type": "markdown",
      "source": [
        "Многовато убрали. Придётся заполнять."
      ],
      "metadata": {
        "id": "kTHAtecUV5j3"
      }
    },
    {
      "cell_type": "markdown",
      "metadata": {
        "id": "eH688KdZDdKY"
      },
      "source": [
        "## Подготовка данных (3 балла)\n",
        "\n",
        "Обработайте признаки. Выполните кодирование категориальных признаков, заполните пропуски в числовых признаках. Обратите внимание, что в датасете есть признак, который разбивается на несколько подпризнаков. Что это за признак? Закодируйте и его.\n",
        "\n",
        "Дополнительные вопросы (+ 1 балл):\n",
        "- Какие из признаков в этом датасете лучше кодировать через ordinal encoding?\n",
        "- Какие из признаков допустимо кодировать через one-hot?\n",
        "\n",
        "Прим.: суммарно за эту секцию можно получить до 4 баллов."
      ]
    },
    {
      "cell_type": "markdown",
      "source": [
        "Насколько я понял, в этом датасете лучше кодировать через ordinal encoding amazon_category_and_sub_category и в теории возможно применить к number_available_in_stock из-за того, что они построены иерархическим образом."
      ],
      "metadata": {
        "id": "waFtAcNeoc0u"
      }
    },
    {
      "cell_type": "code",
      "source": [
        "df_copy = df"
      ],
      "metadata": {
        "id": "YEPrakHrWy4Q"
      },
      "execution_count": 7,
      "outputs": []
    },
    {
      "cell_type": "code",
      "source": [
        "#Сохранение (не работает)\n",
        "df = df_copy"
      ],
      "metadata": {
        "id": "ftMtS-JUZ9dk"
      },
      "execution_count": 8,
      "outputs": []
    },
    {
      "cell_type": "code",
      "source": [
        "df['price'] = df['price'].str.replace('£', '').str.replace(',', '') #убираем \"мусорные\" символы\n",
        "df['price'] = df['price'].apply(lambda x: np.mean([float(i) for i in x.split('-')]) if isinstance(x, str) and '-' in x else float(x))\n",
        "df['price'] = df['price'].fillna(df['price'].median())"
      ],
      "metadata": {
        "id": "Ht8L-tu9WtNs"
      },
      "execution_count": 9,
      "outputs": []
    },
    {
      "cell_type": "code",
      "source": [
        "df['number_of_reviews'] = pd.to_numeric(df['number_of_reviews'], errors='coerce')\n",
        "df['number_of_reviews'] = df['number_of_reviews'].fillna(df['number_of_reviews'].mean())"
      ],
      "metadata": {
        "id": "hmZYrX1rXTUu"
      },
      "execution_count": 10,
      "outputs": []
    },
    {
      "cell_type": "markdown",
      "source": [
        "Признак number_available_in_stock можно разбить на подпризнаки used, new и collectible и закодировать с помощью иерархического ordinal encoding, но подавляющее большинство строк имеет признак new, так что я просто заполнил пропуски."
      ],
      "metadata": {
        "id": "l1hQZPEqcHjx"
      }
    },
    {
      "cell_type": "code",
      "source": [
        "#Утеряно 25% данных. Значения могут быть грубыми.\n",
        "df['number_available_in_stock'] = df['number_available_in_stock'].str.extract('(\\d+\\.?\\d*)', expand=False) #извлекаем числа\n",
        "df['number_available_in_stock'] = pd.to_numeric(df['number_available_in_stock'], errors='coerce') \n",
        "mean_value = df['number_available_in_stock'].mean()\n",
        "df['number_available_in_stock'] = df['number_available_in_stock'].fillna(mean_value)"
      ],
      "metadata": {
        "id": "Ax916ShJdZ8B"
      },
      "execution_count": 11,
      "outputs": []
    },
    {
      "cell_type": "markdown",
      "source": [
        "Категорию также лучше 'amazon_category_and_sub_category' лучше всего закодировать через ordinal или one-hot encoding"
      ],
      "metadata": {
        "id": "h1OT2u1zFlGB"
      }
    },
    {
      "cell_type": "code",
      "source": [
        "#Пока у меня не получилось\n"
      ],
      "metadata": {
        "id": "Ijj0i76pX1BQ"
      },
      "execution_count": 12,
      "outputs": []
    },
    {
      "cell_type": "code",
      "source": [
        "df.count()"
      ],
      "metadata": {
        "colab": {
          "base_uri": "https://localhost:8080/"
        },
        "id": "SouoxqkiYj2E",
        "outputId": "2a5de0a6-25cb-4ea2-b111-8245ad6fe314"
      },
      "execution_count": 13,
      "outputs": [
        {
          "output_type": "execute_result",
          "data": {
            "text/plain": [
              "manufacturer                         9993\n",
              "price                               10000\n",
              "number_available_in_stock           10000\n",
              "number_of_reviews                   10000\n",
              "number_of_answered_questions         9235\n",
              "average_review_rating                9982\n",
              "amazon_category_and_sub_category     9310\n",
              "dtype: int64"
            ]
          },
          "metadata": {},
          "execution_count": 13
        }
      ]
    },
    {
      "cell_type": "markdown",
      "source": [
        "Осталось приемлимое количество строк, можно вырезать остальное (временная мера)"
      ],
      "metadata": {
        "id": "dGeIaQIaX0Fc"
      }
    },
    {
      "cell_type": "code",
      "source": [
        "df.dropna(inplace=True)\n",
        "df.count()"
      ],
      "metadata": {
        "colab": {
          "base_uri": "https://localhost:8080/"
        },
        "id": "Qu9BPcu_Imoh",
        "outputId": "51e0023a-4e5c-4bdc-fd83-8aa13cd0ff29"
      },
      "execution_count": 14,
      "outputs": [
        {
          "output_type": "execute_result",
          "data": {
            "text/plain": [
              "manufacturer                        8581\n",
              "price                               8581\n",
              "number_available_in_stock           8581\n",
              "number_of_reviews                   8581\n",
              "number_of_answered_questions        8581\n",
              "average_review_rating               8581\n",
              "amazon_category_and_sub_category    8581\n",
              "dtype: int64"
            ]
          },
          "metadata": {},
          "execution_count": 14
        }
      ]
    },
    {
      "cell_type": "markdown",
      "metadata": {
        "id": "JTRoUwANEcn9"
      },
      "source": [
        "# Обучение модели (3 балла)"
      ]
    },
    {
      "cell_type": "markdown",
      "metadata": {
        "id": "AyVaKKT7FFo5"
      },
      "source": [
        "## Бейзлайн\n",
        "\n",
        "Обучите базовую модель. Для этого используйте `sklearn.dummy.DummyRegressor`. Какое качество она показывает на тесте? Посчитайте MSE, RMSE."
      ]
    },
    {
      "cell_type": "markdown",
      "metadata": {
        "id": "rVW-MtPgF_vE"
      },
      "source": [
        "## Дерево решений\n",
        "\n",
        "Обучите регрессионное дерево решений, проверьте качество этой модели на тестовой выборке. Улучшилось ли качество по сравнению с базовой моделью? Оцените r2_score обученной модели."
      ]
    },
    {
      "cell_type": "markdown",
      "metadata": {
        "id": "viVY_kUMG7Jv"
      },
      "source": [
        "## Линейная регрессия\n",
        "\n",
        "Попробуйте обучить линейную регрессию с параметрами по умолчанию. Оцените r2_score на тестовой выборке. Сравните качество с деревом решений. "
      ]
    },
    {
      "cell_type": "markdown",
      "metadata": {
        "id": "3J71riX2Guj3"
      },
      "source": [
        "# Гиперпараметры (2 балла)\n",
        "\n",
        "Переберите несколько гиперпараметров (не более двух-трёх). Обратите внимание, как эти параметры влияют на ошибку модели на тестовой выборке. Постройте для глубины дерева график переобучения (fitting curve) аналогичный тому, что мы строили на занятии. Найдите глубину дерева, начиная с которой модель начинает переобучаться."
      ]
    },
    {
      "cell_type": "markdown",
      "metadata": {
        "id": "rJlf6gJ9RBhf"
      },
      "source": [
        "# Простое ансамблирование (1 балл)\n",
        "\n",
        "В этой секции мы реализуем простой ансамбль деревьев."
      ]
    },
    {
      "cell_type": "code",
      "execution_count": 15,
      "metadata": {
        "id": "Ht7wq9TqUfvZ"
      },
      "outputs": [],
      "source": [
        "class EnsembleTreeRegressor:\n",
        "    def __init__(self, num_trees=5, samples_frac=0.8, **model_kwargs):\n",
        "        self.num_trees= num_trees\n",
        "        self._samples_frac = 0.8\n",
        "        self._trees = [DecisionTreeRegressor(**model_kwargs) for _ in range(num_trees)]\n",
        "    def fit(self, x, y: pd.Series):\n",
        "        x = pd.DataFrame(x)\n",
        "        y = y.reset_index(drop=True)\n",
        "        for tree in self._trees:\n",
        "            tree_x = x.sample(frac=self._samples_frac, random_state=42)\n",
        "            tree_y = y[tree_x.index]\n",
        "            tree.fit(tree_x, tree_y)\n",
        "        return self\n",
        "\n",
        "    def predict(self, x: pd.DataFrame):\n",
        "        x = pd.DataFrame(x)\n",
        "        res = []\n",
        "        for i in range(self.num_trees):\n",
        "          res.append(self._trees[i].predict(x))\n",
        "        return sum(res) / len(res)"
      ]
    },
    {
      "cell_type": "markdown",
      "metadata": {
        "id": "FCxogZPuVZCF"
      },
      "source": [
        "Проверьте, работает ли этот ансамбль лучше обычного дерева с параметрами по умолчанию?\n",
        "\n",
        "Дополнительно переберите максимальную глубину дерева. Проверьте, насколько отличается момент начала переобучения у одиночного дерева и у ансамбля. Зависит ли этот момент от числа деревьев (`num_trees`)? От числа примеров для каждого дерева (`samples_frac`)? Постройте график fitting curve."
      ]
    }
  ],
  "metadata": {
    "colab": {
      "provenance": []
    },
    "gpuClass": "standard",
    "kernelspec": {
      "display_name": "base",
      "language": "python",
      "name": "python3"
    },
    "language_info": {
      "codemirror_mode": {
        "name": "ipython",
        "version": 3
      },
      "file_extension": ".py",
      "mimetype": "text/x-python",
      "name": "python",
      "nbconvert_exporter": "python",
      "pygments_lexer": "ipython3",
      "version": "3.8.15"
    },
    "vscode": {
      "interpreter": {
        "hash": "e4cce46d6be9934fbd27f9ca0432556941ea5bdf741d4f4d64c6cd7f8dfa8fba"
      }
    }
  },
  "nbformat": 4,
  "nbformat_minor": 0
}